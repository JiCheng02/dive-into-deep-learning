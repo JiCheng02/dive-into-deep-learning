{
 "cells": [
  {
   "cell_type": "code",
   "id": "initial_id",
   "metadata": {
    "collapsed": true,
    "ExecuteTime": {
     "end_time": "2024-12-12T02:06:40.235332Z",
     "start_time": "2024-12-12T02:05:26.587088Z"
    }
   },
   "source": [
    "import torch\n",
    "import torch.nn as nn\n",
    "import torch.optim as optim\n",
    "import torchvision\n",
    "from matplotlib.pyplot import imshow\n",
    "from torchvision import transforms\n",
    "from torch.utils import data\n",
    "from matplotlib import pyplot as plt\n",
    "from win32gui import PtInRegion"
   ],
   "outputs": [],
   "execution_count": 2
  },
  {
   "metadata": {
    "ExecuteTime": {
     "end_time": "2024-12-12T04:50:10.658080Z",
     "start_time": "2024-12-12T04:50:10.644524Z"
    }
   },
   "cell_type": "code",
   "source": [
    "class CNN(nn.Module):\n",
    "    def __init__(self):\n",
    "        super(CNN, self).__init__()\n",
    "        self.model = nn.Sequential(\n",
    "            nn.Conv2d(in_channels=3, out_channels=32, kernel_size=5, stride=1, padding=2),\n",
    "            nn.MaxPool2d(kernel_size=2),\n",
    "            nn.Conv2d(in_channels=32, out_channels=32, kernel_size=5, stride=1, padding=2),\n",
    "            nn.MaxPool2d(kernel_size=2),\n",
    "            nn.Conv2d(in_channels=32, out_channels=64, kernel_size=5, stride=1, padding=2),\n",
    "            nn.MaxPool2d(kernel_size=2),\n",
    "            nn.Flatten()\n",
    "            # nn.Linear(in_features=4 * 4 * 64, out_features=64),\n",
    "            # nn.ReLU(),\n",
    "            # nn.Linear(in_features=64, out_features=10),\n",
    "        )\n",
    "    def forward(self, x):\n",
    "        return self.model(x)"
   ],
   "id": "7728c97bc8157c14",
   "outputs": [],
   "execution_count": 106
  },
  {
   "metadata": {
    "ExecuteTime": {
     "end_time": "2024-12-12T04:11:50.999778Z",
     "start_time": "2024-12-12T04:11:50.107262Z"
    }
   },
   "cell_type": "code",
   "source": [
    "trans = transforms.Compose([transforms.ToTensor()])\n",
    "train_set = torchvision.datasets.CIFAR10(root='../data', train=True, download=False, transform=trans)\n",
    "test_set = torchvision.datasets.CIFAR10(root='../data', train=False, download=False, transform=trans)\n",
    "train_loader = data.DataLoader(train_set, batch_size=64, shuffle=True)\n",
    "test_loader = data.DataLoader(test_set, batch_size=128, shuffle=True)"
   ],
   "id": "22bf406b8d7c6863",
   "outputs": [],
   "execution_count": 50
  },
  {
   "metadata": {
    "ExecuteTime": {
     "end_time": "2024-12-12T04:14:39.555843Z",
     "start_time": "2024-12-12T04:14:39.527446Z"
    }
   },
   "cell_type": "code",
   "source": [
    "device = torch.device(\"cuda\" if torch.cuda.is_available() else \"cpu\")\n",
    "criterion = nn.CrossEntropyLoss().to(device)\n",
    "learning_rate = 1e-2"
   ],
   "id": "9a978a078b5ee91a",
   "outputs": [],
   "execution_count": 54
  },
  {
   "metadata": {
    "ExecuteTime": {
     "end_time": "2024-12-12T04:19:38.887699Z",
     "start_time": "2024-12-12T04:14:40.834103Z"
    }
   },
   "cell_type": "code",
   "source": [
    "net = CNN().to(device)\n",
    "optimizer = optim.SGD(net.parameters(), lr=learning_rate)\n",
    "net = net.train()\n",
    "\n",
    "train_step = 0\n",
    "train_losses = []\n",
    "train_accuracies = []\n",
    "eval_accuracies = []\n",
    "epchos = 20\n",
    "for epoch in range(epchos):\n",
    "    train_loss = 0\n",
    "    train_acc = 0\n",
    "    eval_acc = 0\n",
    "    print(\"第{}轮训练开始\".format(epoch+1))\n",
    "    for imgs,labels in train_loader:\n",
    "        imgs = imgs.to(device)\n",
    "        labels = labels.to(device)\n",
    "        outputs = net(imgs)\n",
    "        loss_fn =criterion(outputs, labels)\n",
    "        optimizer.zero_grad()\n",
    "        loss_fn.backward()\n",
    "        optimizer.step()\n",
    "\n",
    "        train_step += 1\n",
    "        train_loss += loss_fn.item()\n",
    "        _, pred = torch.max(outputs, 1)\n",
    "        num_correct = (pred == labels).sum().item()\n",
    "        acc = num_correct / len(labels)\n",
    "        train_acc += num_correct\n",
    "        if train_step % 200 == 0:\n",
    "            print('[INFO] Epoch-{}-Batch-{}: Train:Loss-{:.4f},Accuracy-{:.4f}'.format(epoch + 1,train_step,loss_fn.item(),acc))\n",
    "    train_losses.append(train_loss/len(train_loader))\n",
    "    train_accuracies.append(train_acc/len(train_set))\n",
    "    net = net.eval()\n",
    "    with torch.no_grad():\n",
    "        for imgs,labels in test_loader:\n",
    "            imgs = imgs.to(device)\n",
    "            labels = labels.to(device)\n",
    "            outputs = net(imgs)\n",
    "            _, pred = torch.max(outputs, 1)\n",
    "            num_correct = (pred == labels).sum().item()\n",
    "            eval_acc += num_correct\n",
    "    eval_accuracies.append(eval_acc/len(test_set))\n",
    "    print('[INFO] Epoch-{}: Train: Loss-{:.4f}, Accuracy-{:.4f} | Test: Accuracy-{:.4f}'.format(epoch + 1, train_loss/len(train_set), train_acc / len(train_set),eval_acc / len(test_set)))\n",
    "    print(eval_acc)"
   ],
   "id": "c8d76ad92568abd",
   "outputs": [
    {
     "name": "stdout",
     "output_type": "stream",
     "text": [
      "第1轮训练开始\n",
      "[INFO] Epoch-1-Batch-200: Train:Loss-2.2957,Accuracy-0.0781\n",
      "[INFO] Epoch-1-Batch-400: Train:Loss-2.2619,Accuracy-0.1562\n",
      "[INFO] Epoch-1-Batch-600: Train:Loss-2.1954,Accuracy-0.2500\n",
      "[INFO] Epoch-1: Train: Loss-0.0349, Accuracy-0.1548 | Test: Accuracy-0.2541\n",
      "2541\n",
      "第2轮训练开始\n",
      "[INFO] Epoch-2-Batch-800: Train:Loss-2.0744,Accuracy-0.1719\n",
      "[INFO] Epoch-2-Batch-1000: Train:Loss-2.0539,Accuracy-0.2344\n",
      "[INFO] Epoch-2-Batch-1200: Train:Loss-1.8643,Accuracy-0.3281\n",
      "[INFO] Epoch-2-Batch-1400: Train:Loss-1.8434,Accuracy-0.3594\n",
      "[INFO] Epoch-2: Train: Loss-0.0297, Accuracy-0.3193 | Test: Accuracy-0.3469\n",
      "3469\n",
      "第3轮训练开始\n",
      "[INFO] Epoch-3-Batch-1600: Train:Loss-1.8575,Accuracy-0.3125\n",
      "[INFO] Epoch-3-Batch-1800: Train:Loss-1.7415,Accuracy-0.4062\n",
      "[INFO] Epoch-3-Batch-2000: Train:Loss-1.7641,Accuracy-0.4375\n",
      "[INFO] Epoch-3-Batch-2200: Train:Loss-1.5750,Accuracy-0.2969\n",
      "[INFO] Epoch-3: Train: Loss-0.0262, Accuracy-0.3995 | Test: Accuracy-0.4212\n",
      "4212\n",
      "第4轮训练开始\n",
      "[INFO] Epoch-4-Batch-2400: Train:Loss-1.7044,Accuracy-0.3750\n",
      "[INFO] Epoch-4-Batch-2600: Train:Loss-1.5722,Accuracy-0.4531\n",
      "[INFO] Epoch-4-Batch-2800: Train:Loss-1.3017,Accuracy-0.6406\n",
      "[INFO] Epoch-4-Batch-3000: Train:Loss-1.5627,Accuracy-0.4375\n",
      "[INFO] Epoch-4: Train: Loss-0.0241, Accuracy-0.4488 | Test: Accuracy-0.4558\n",
      "4558\n",
      "第5轮训练开始\n",
      "[INFO] Epoch-5-Batch-3200: Train:Loss-1.5786,Accuracy-0.4375\n",
      "[INFO] Epoch-5-Batch-3400: Train:Loss-1.4477,Accuracy-0.4844\n",
      "[INFO] Epoch-5-Batch-3600: Train:Loss-1.8106,Accuracy-0.3594\n",
      "[INFO] Epoch-5-Batch-3800: Train:Loss-1.4234,Accuracy-0.4375\n",
      "[INFO] Epoch-5: Train: Loss-0.0227, Accuracy-0.4817 | Test: Accuracy-0.4786\n",
      "4786\n",
      "第6轮训练开始\n",
      "[INFO] Epoch-6-Batch-4000: Train:Loss-1.3897,Accuracy-0.5781\n",
      "[INFO] Epoch-6-Batch-4200: Train:Loss-1.3472,Accuracy-0.5469\n",
      "[INFO] Epoch-6-Batch-4400: Train:Loss-1.2878,Accuracy-0.5469\n",
      "[INFO] Epoch-6-Batch-4600: Train:Loss-1.3287,Accuracy-0.5312\n",
      "[INFO] Epoch-6: Train: Loss-0.0216, Accuracy-0.5086 | Test: Accuracy-0.4857\n",
      "4857\n",
      "第7轮训练开始\n",
      "[INFO] Epoch-7-Batch-4800: Train:Loss-1.2667,Accuracy-0.5156\n",
      "[INFO] Epoch-7-Batch-5000: Train:Loss-1.3983,Accuracy-0.5469\n",
      "[INFO] Epoch-7-Batch-5200: Train:Loss-1.2319,Accuracy-0.6250\n",
      "[INFO] Epoch-7-Batch-5400: Train:Loss-1.2158,Accuracy-0.5312\n",
      "[INFO] Epoch-7: Train: Loss-0.0206, Accuracy-0.5306 | Test: Accuracy-0.5172\n",
      "5172\n",
      "第8轮训练开始\n",
      "[INFO] Epoch-8-Batch-5600: Train:Loss-1.2619,Accuracy-0.5625\n",
      "[INFO] Epoch-8-Batch-5800: Train:Loss-1.2773,Accuracy-0.5625\n",
      "[INFO] Epoch-8-Batch-6000: Train:Loss-1.1474,Accuracy-0.5625\n",
      "[INFO] Epoch-8-Batch-6200: Train:Loss-1.1196,Accuracy-0.5469\n",
      "[INFO] Epoch-8: Train: Loss-0.0197, Accuracy-0.5540 | Test: Accuracy-0.5533\n",
      "5533\n",
      "第9轮训练开始\n",
      "[INFO] Epoch-9-Batch-6400: Train:Loss-1.1408,Accuracy-0.6250\n",
      "[INFO] Epoch-9-Batch-6600: Train:Loss-1.2369,Accuracy-0.5781\n",
      "[INFO] Epoch-9-Batch-6800: Train:Loss-1.2008,Accuracy-0.5469\n",
      "[INFO] Epoch-9-Batch-7000: Train:Loss-1.1436,Accuracy-0.5938\n",
      "[INFO] Epoch-9: Train: Loss-0.0189, Accuracy-0.5722 | Test: Accuracy-0.5637\n",
      "5637\n",
      "第10轮训练开始\n",
      "[INFO] Epoch-10-Batch-7200: Train:Loss-1.1583,Accuracy-0.5469\n",
      "[INFO] Epoch-10-Batch-7400: Train:Loss-1.3104,Accuracy-0.4844\n",
      "[INFO] Epoch-10-Batch-7600: Train:Loss-1.2517,Accuracy-0.5625\n",
      "[INFO] Epoch-10-Batch-7800: Train:Loss-0.9686,Accuracy-0.7031\n",
      "[INFO] Epoch-10: Train: Loss-0.0181, Accuracy-0.5917 | Test: Accuracy-0.5635\n",
      "5635\n",
      "第11轮训练开始\n",
      "[INFO] Epoch-11-Batch-8000: Train:Loss-0.9636,Accuracy-0.6719\n",
      "[INFO] Epoch-11-Batch-8200: Train:Loss-1.2514,Accuracy-0.5781\n",
      "[INFO] Epoch-11-Batch-8400: Train:Loss-0.8778,Accuracy-0.6875\n",
      "[INFO] Epoch-11-Batch-8600: Train:Loss-1.0966,Accuracy-0.5625\n",
      "[INFO] Epoch-11: Train: Loss-0.0173, Accuracy-0.6083 | Test: Accuracy-0.5263\n",
      "5263\n",
      "第12轮训练开始\n",
      "[INFO] Epoch-12-Batch-8800: Train:Loss-0.9180,Accuracy-0.7188\n",
      "[INFO] Epoch-12-Batch-9000: Train:Loss-1.0993,Accuracy-0.5625\n",
      "[INFO] Epoch-12-Batch-9200: Train:Loss-1.2616,Accuracy-0.6562\n",
      "[INFO] Epoch-12: Train: Loss-0.0166, Accuracy-0.6267 | Test: Accuracy-0.5380\n",
      "5380\n",
      "第13轮训练开始\n",
      "[INFO] Epoch-13-Batch-9400: Train:Loss-1.0247,Accuracy-0.6406\n",
      "[INFO] Epoch-13-Batch-9600: Train:Loss-1.1289,Accuracy-0.5625\n",
      "[INFO] Epoch-13-Batch-9800: Train:Loss-0.8460,Accuracy-0.6875\n",
      "[INFO] Epoch-13-Batch-10000: Train:Loss-0.9124,Accuracy-0.7031\n",
      "[INFO] Epoch-13: Train: Loss-0.0160, Accuracy-0.6407 | Test: Accuracy-0.6003\n",
      "6003\n",
      "第14轮训练开始\n",
      "[INFO] Epoch-14-Batch-10200: Train:Loss-0.9061,Accuracy-0.7500\n",
      "[INFO] Epoch-14-Batch-10400: Train:Loss-0.9434,Accuracy-0.6562\n",
      "[INFO] Epoch-14-Batch-10600: Train:Loss-1.0991,Accuracy-0.5625\n",
      "[INFO] Epoch-14-Batch-10800: Train:Loss-1.0146,Accuracy-0.7031\n",
      "[INFO] Epoch-14: Train: Loss-0.0153, Accuracy-0.6583 | Test: Accuracy-0.6193\n",
      "6193\n",
      "第15轮训练开始\n",
      "[INFO] Epoch-15-Batch-11000: Train:Loss-0.9406,Accuracy-0.6250\n",
      "[INFO] Epoch-15-Batch-11200: Train:Loss-1.2105,Accuracy-0.5625\n",
      "[INFO] Epoch-15-Batch-11400: Train:Loss-0.9983,Accuracy-0.6250\n",
      "[INFO] Epoch-15-Batch-11600: Train:Loss-0.6285,Accuracy-0.7969\n",
      "[INFO] Epoch-15: Train: Loss-0.0147, Accuracy-0.6726 | Test: Accuracy-0.6175\n",
      "6175\n",
      "第16轮训练开始\n",
      "[INFO] Epoch-16-Batch-11800: Train:Loss-0.8400,Accuracy-0.7188\n",
      "[INFO] Epoch-16-Batch-12000: Train:Loss-0.9349,Accuracy-0.7031\n",
      "[INFO] Epoch-16-Batch-12200: Train:Loss-0.8404,Accuracy-0.7188\n",
      "[INFO] Epoch-16-Batch-12400: Train:Loss-1.0542,Accuracy-0.6094\n",
      "[INFO] Epoch-16: Train: Loss-0.0141, Accuracy-0.6834 | Test: Accuracy-0.6252\n",
      "6252\n",
      "第17轮训练开始\n",
      "[INFO] Epoch-17-Batch-12600: Train:Loss-0.9194,Accuracy-0.7344\n",
      "[INFO] Epoch-17-Batch-12800: Train:Loss-1.1465,Accuracy-0.6250\n",
      "[INFO] Epoch-17-Batch-13000: Train:Loss-1.1594,Accuracy-0.6406\n",
      "[INFO] Epoch-17-Batch-13200: Train:Loss-0.9299,Accuracy-0.6719\n",
      "[INFO] Epoch-17: Train: Loss-0.0137, Accuracy-0.6948 | Test: Accuracy-0.6032\n",
      "6032\n",
      "第18轮训练开始\n",
      "[INFO] Epoch-18-Batch-13400: Train:Loss-0.9431,Accuracy-0.6719\n",
      "[INFO] Epoch-18-Batch-13600: Train:Loss-0.6821,Accuracy-0.7500\n",
      "[INFO] Epoch-18-Batch-13800: Train:Loss-0.7769,Accuracy-0.7500\n",
      "[INFO] Epoch-18-Batch-14000: Train:Loss-0.7102,Accuracy-0.7500\n",
      "[INFO] Epoch-18: Train: Loss-0.0132, Accuracy-0.7033 | Test: Accuracy-0.6455\n",
      "6455\n",
      "第19轮训练开始\n",
      "[INFO] Epoch-19-Batch-14200: Train:Loss-0.8124,Accuracy-0.7188\n",
      "[INFO] Epoch-19-Batch-14400: Train:Loss-1.0402,Accuracy-0.7031\n",
      "[INFO] Epoch-19-Batch-14600: Train:Loss-0.7109,Accuracy-0.7500\n",
      "[INFO] Epoch-19-Batch-14800: Train:Loss-0.7658,Accuracy-0.7500\n",
      "[INFO] Epoch-19: Train: Loss-0.0127, Accuracy-0.7167 | Test: Accuracy-0.6586\n",
      "6586\n",
      "第20轮训练开始\n",
      "[INFO] Epoch-20-Batch-15000: Train:Loss-0.6745,Accuracy-0.7969\n",
      "[INFO] Epoch-20-Batch-15200: Train:Loss-0.8402,Accuracy-0.6719\n",
      "[INFO] Epoch-20-Batch-15400: Train:Loss-0.6818,Accuracy-0.7500\n",
      "[INFO] Epoch-20-Batch-15600: Train:Loss-0.7999,Accuracy-0.7031\n",
      "[INFO] Epoch-20: Train: Loss-0.0123, Accuracy-0.7258 | Test: Accuracy-0.6666\n",
      "6666\n"
     ]
    }
   ],
   "execution_count": 55
  },
  {
   "metadata": {
    "ExecuteTime": {
     "end_time": "2024-12-12T04:21:20.506037Z",
     "start_time": "2024-12-12T04:21:20.321794Z"
    }
   },
   "cell_type": "code",
   "source": [
    "def chart_cifar10(epchos,train_losses, train_accuracies, eval_accuracies):\n",
    "    import matplotlib.pyplot as plt\n",
    "    epochs = list(range(1,epchos + 1))\n",
    "    plt.figure(figsize=(8, 6))\n",
    "    plt.plot( train_losses, label='train_loss', color='blue')\n",
    "    plt.plot( train_accuracies, label='train_acc', linestyle='-.', color='purple')\n",
    "    plt.plot( eval_accuracies, label='eval_acc', linestyle='--', color='green')\n",
    "    plt.xlabel('epoch')\n",
    "    plt.legend()\n",
    "    # 显示网格\n",
    "    plt.grid(True)\n",
    "    # 显示图形\n",
    "    plt.show()\n",
    "chart_cifar10(epchos,train_losses,train_accuracies,eval_accuracies)"
   ],
   "id": "5da4b6558da8a49e",
   "outputs": [
    {
     "data": {
      "text/plain": [
       "<Figure size 800x600 with 1 Axes>"
      ],
      "image/png": "[encoded data removed]"
     },
     "metadata": {},
     "output_type": "display_data"
    }
   ],
   "execution_count": 58
  }
 ],
 "metadata": {
  "kernelspec": {
   "display_name": "Python 3",
   "language": "python",
   "name": "python3"
  },
  "language_info": {
   "codemirror_mode": {
    "name": "ipython",
    "version": 2
   },
   "file_extension": ".py",
   "mimetype": "text/x-python",
   "name": "python",
   "nbconvert_exporter": "python",
   "pygments_lexer": "ipython2",
   "version": "2.7.6"
  }
 },
 "nbformat": 4,
 "nbformat_minor": 5
}
